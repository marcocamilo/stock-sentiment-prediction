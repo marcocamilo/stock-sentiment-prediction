{
 "cells": [
  {
   "cell_type": "markdown",
   "id": "ba9d40db-d2be-4bcc-abe4-2210740ad1d6",
   "metadata": {},
   "source": [
    "## Basic Imports"
   ]
  },
  {
   "cell_type": "code",
   "execution_count": 4,
   "id": "c173b553-d268-4016-be2d-fa914a7d35f4",
   "metadata": {},
   "outputs": [],
   "source": [
    "import pandas as pd\n",
    "from tqdm import tqdm\n",
    "import requests\n",
    "from datetime import datetime, timedelta"
   ]
  },
  {
   "cell_type": "code",
   "execution_count": 48,
   "id": "c9264d1a-46dc-436a-8431-602602e2057a",
   "metadata": {},
   "outputs": [],
   "source": [
    "def fetch_articles(ticker, start_date_str, api_key, limit=1000):\n",
    "    url = 'https://www.alphavantage.co/query?function=NEWS_SENTIMENT'\n",
    "    news = []\n",
    "\n",
    "    # Convert start_date_str to datetime object\n",
    "    start_date = datetime.strptime(start_date_str, '%Y%m%dT%H%M')\n",
    "\n",
    "    current_date = datetime.now()\n",
    "    total_days = (current_date - start_date).days\n",
    "\n",
    "    with tqdm(total=total_days, desc=\"Fetching Articles\") as pbar:\n",
    "        while True:\n",
    "            params = dict(\n",
    "                tickers=ticker,\n",
    "                time_from=start_date.strftime('%Y%m%dT%H%M'),\n",
    "                limit=limit,\n",
    "                sort='EARLIEST',\n",
    "                apikey=api_key,\n",
    "            )\n",
    "            \n",
    "            try:\n",
    "                r = requests.get(url, params=params)\n",
    "                r.raise_for_status()\n",
    "                data = r.json()\n",
    "            except requests.exceptions.RequestException as e:\n",
    "                print(f\"Request failed: {e}\")\n",
    "                return None\n",
    "\n",
    "            if data.get('items') == '0':\n",
    "                print(\"No more articles to extract!\")\n",
    "                return None\n",
    "                \n",
    "            if 'Information' in data:\n",
    "                print(data['Information'])\n",
    "                print(f\"{len(news)} articles extracted up to {start_date}!\")\n",
    "                break\n",
    "            \n",
    "            for item in data['feed']:\n",
    "                news.append([item['time_published'], item['title'], item['summary']])\n",
    "            \n",
    "            # Convert to DataFrame\n",
    "            df = pd.DataFrame(news, columns=['date', 'title', 'summary'])\n",
    "            \n",
    "            # Check the last date in the DataFrame and update start_date\n",
    "            last_date_str = dataframe['date'].iloc[-1]\n",
    "            last_date = df.strptime(last_date_str, '%Y%m%dT%H%M%S')\n",
    "\n",
    "            # Update progress bar\n",
    "            days_progress = (last_date - start_date).days\n",
    "            pbar.update(days_progress)\n",
    "\n",
    "            # Update start_date to continue fetching\n",
    "            start_date = last_date + timedelta(minutes=1)\n",
    "            \n",
    "            # Ensure the progress bar does not exceed total days\n",
    "            if start_date >= current_date:\n",
    "                print(\"Current date reached!\")\n",
    "                break\n",
    "\n",
    "    return df\n"
   ]
  },
  {
   "cell_type": "code",
   "execution_count": 49,
   "id": "d6011f6c-a92d-4d0a-9e58-d2c319a02ebb",
   "metadata": {},
   "outputs": [
    {
     "name": "stderr",
     "output_type": "stream",
     "text": [
      "Fetching Articles: 0it [00:00, ?it/s]"
     ]
    },
    {
     "name": "stdout",
     "output_type": "stream",
     "text": [
      "No more articles to extract!\n"
     ]
    },
    {
     "name": "stderr",
     "output_type": "stream",
     "text": [
      "\n"
     ]
    }
   ],
   "source": [
    "# Parameters\n",
    "ticker = 'TSLA'\n",
    "start_date_str = '20240703T2014'\n",
    "api_key = '6T7LFCD6CXI4YUZZ'\n",
    "\n",
    "# Fetch articles and create DataFrame\n",
    "df = fetch_articles(ticker, start_date_str, api_key)"
   ]
  },
  {
   "cell_type": "code",
   "execution_count": 50,
   "id": "92f97c70-bb84-408b-bf4c-14eb4eedd7a7",
   "metadata": {},
   "outputs": [
    {
     "data": {
      "text/plain": [
       "None"
      ]
     },
     "metadata": {},
     "output_type": "display_data"
    }
   ],
   "source": [
    "display(df)"
   ]
  },
  {
   "cell_type": "code",
   "execution_count": 25,
   "id": "425769f0-e203-4e94-b783-424403d79a90",
   "metadata": {},
   "outputs": [],
   "source": [
    "df.to_parquet('../data/1-raw/tsla-news-4.parquet')"
   ]
  },
  {
   "cell_type": "code",
   "execution_count": 26,
   "id": "d5258a85-a4f1-406f-9927-76b18138de27",
   "metadata": {},
   "outputs": [],
   "source": [
    "import feedparser"
   ]
  },
  {
   "cell_type": "code",
   "execution_count": 27,
   "id": "807f5136-9fee-43af-80ca-186dc4bfe356",
   "metadata": {},
   "outputs": [],
   "source": [
    "rss = 'https://finance.yahoo.com/rss/'\n",
    "\n",
    "parse = feedparser.parse(rss)"
   ]
  },
  {
   "cell_type": "code",
   "execution_count": 29,
   "id": "5a2f5330-ddb5-4da8-8eb2-2060dcd29d21",
   "metadata": {},
   "outputs": [
    {
     "data": {
      "text/plain": [
       "12"
      ]
     },
     "execution_count": 29,
     "metadata": {},
     "output_type": "execute_result"
    }
   ],
   "source": []
  }
 ],
 "metadata": {
  "kernelspec": {
   "display_name": "Python 3 (ipykernel)",
   "language": "python",
   "name": "python3"
  },
  "language_info": {
   "codemirror_mode": {
    "name": "ipython",
    "version": 3
   },
   "file_extension": ".py",
   "mimetype": "text/x-python",
   "name": "python",
   "nbconvert_exporter": "python",
   "pygments_lexer": "ipython3",
   "version": "3.10.14"
  }
 },
 "nbformat": 4,
 "nbformat_minor": 5
}
